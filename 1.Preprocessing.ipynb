{
 "cells": [
  {
   "cell_type": "code",
   "execution_count": 2,
   "id": "1ffadf38",
   "metadata": {
    "tags": []
   },
   "outputs": [],
   "source": [
    "import pickle\n",
    "from preprocessing import *"
   ]
  },
  {
   "cell_type": "markdown",
   "id": "4af33598",
   "metadata": {},
   "source": [
    "# Data Cube "
   ]
  },
  {
   "cell_type": "code",
   "execution_count": 2,
   "id": "f7ede0c0",
   "metadata": {},
   "outputs": [],
   "source": [
    "label_train, dataframes_list_train = read_data('../data/Cube/2D/train/')\n",
    "label_test, dataframes_list_test = read_data('../data/Cube/2D/test/')"
   ]
  },
  {
   "cell_type": "code",
   "execution_count": 3,
   "id": "6c24981b",
   "metadata": {},
   "outputs": [
    {
     "data": {
      "text/plain": [
       "(3712, 3711, 659, 659)"
      ]
     },
     "execution_count": 3,
     "metadata": {},
     "output_type": "execute_result"
    }
   ],
   "source": [
    "len(label_train), len(dataframes_list_train), len(label_test), len(dataframes_list_test)"
   ]
  },
  {
   "cell_type": "code",
   "execution_count": 4,
   "id": "6d27a6fa-36f1-4329-821a-9cd4d044e26a",
   "metadata": {},
   "outputs": [],
   "source": [
    "data_train = scale_shape(dataframes_list_train, min_ = -0.5, max_ = 0.5)\n",
    "data_test = scale_shape(dataframes_list_test, min_ = -0.5, max_ = 0.5)"
   ]
  },
  {
   "cell_type": "code",
   "execution_count": 5,
   "id": "dde58234-5479-48a6-950a-d55f9200cc0a",
   "metadata": {},
   "outputs": [
    {
     "data": {
      "text/plain": [
       "(3711, 659)"
      ]
     },
     "execution_count": 5,
     "metadata": {},
     "output_type": "execute_result"
    }
   ],
   "source": [
    "len(data_train), len(data_test)"
   ]
  },
  {
   "cell_type": "code",
   "execution_count": 6,
   "id": "34955190-c541-4537-9e82-9ef9b97f95e7",
   "metadata": {},
   "outputs": [],
   "source": [
    "liste_sdf_train = SDF(data_train)\n",
    "liste_sdf_test = SDF(data_test)"
   ]
  },
  {
   "cell_type": "markdown",
   "id": "88ba343d-9ead-4ae4-ab9d-e3abdc6cdafe",
   "metadata": {},
   "source": [
    "**Analyse des dimensions**"
   ]
  },
  {
   "cell_type": "code",
   "execution_count": 11,
   "id": "fb47c6ee-7361-4cd6-b15e-4e440243d52e",
   "metadata": {},
   "outputs": [],
   "source": [
    "wavelet = pywt.Wavelet('bior2.2')"
   ]
  },
  {
   "cell_type": "code",
   "execution_count": 13,
   "id": "12d7b173-a9d5-4186-b772-edbbe90ac1ea",
   "metadata": {},
   "outputs": [
    {
     "data": {
      "text/plain": [
       "[(64, 32),\n",
       " {'ad': (64, 32), 'da': (64, 32), 'dd': (64, 32)},\n",
       " {'ad': (128, 64), 'da': (128, 64), 'dd': (128, 64)},\n",
       " {'ad': (256, 128), 'da': (256, 128), 'dd': (256, 128)}]"
      ]
     },
     "execution_count": 13,
     "metadata": {},
     "output_type": "execute_result"
    }
   ],
   "source": [
    "pywt.wavedecn_shapes((512, 256), wavelet=wavelet, level=3, mode='periodization')"
   ]
  },
  {
   "cell_type": "code",
   "execution_count": 14,
   "id": "77428b04-7fe8-414d-847d-3efcdef9d1f1",
   "metadata": {},
   "outputs": [],
   "source": [
    "liste_wavelet_C_train, liste_wavelet_D_train = Wavelet_decomposition(liste_sdf_train)\n",
    "liste_wavelet_C_test, liste_wavelet_D_test = Wavelet_decomposition(liste_sdf_test)"
   ]
  },
  {
   "cell_type": "code",
   "execution_count": 15,
   "id": "47cf58c9-5f33-489b-9aa9-38519761e497",
   "metadata": {},
   "outputs": [
    {
     "data": {
      "text/plain": [
       "(3711, 3711, 659, 659)"
      ]
     },
     "execution_count": 15,
     "metadata": {},
     "output_type": "execute_result"
    }
   ],
   "source": [
    "len(liste_wavelet_C_train), len(liste_wavelet_D_train), len(liste_wavelet_C_test), len(liste_wavelet_D_test)"
   ]
  },
  {
   "cell_type": "markdown",
   "id": "9d924d9a",
   "metadata": {},
   "source": [
    "# Exportation"
   ]
  },
  {
   "cell_type": "code",
   "execution_count": 16,
   "id": "89c16b80-51c6-4b6d-8189-028771ca071c",
   "metadata": {},
   "outputs": [],
   "source": [
    "# export SDF \n",
    "with open('../data/Cube/SDF/data_sdf_train.pkl','wb') as f:\n",
    "    pickle.dump(liste_sdf_train, f)\n",
    "\n",
    "with open('../data/Cube/SDF/data_sdf_test.pkl','wb') as f:\n",
    "    pickle.dump(liste_sdf_test, f)"
   ]
  },
  {
   "cell_type": "code",
   "execution_count": 18,
   "id": "623e82c6-ffa1-4d1a-83ef-047e7fe8dd56",
   "metadata": {},
   "outputs": [],
   "source": [
    "# export wavelet decomposition\n",
    "\n",
    "# coarse coeff\n",
    "with open('../data/Cube/Wavelets/data_wavelet_C_train.pkl','wb') as f:\n",
    "    pickle.dump(liste_wavelet_C_train, f)\n",
    "\n",
    "# detail coeff\n",
    "with open('../data/Cube/Wavelets/data_wavelet_D_train.pkl','wb') as f:\n",
    "    pickle.dump(liste_wavelet_D_train, f)\n",
    "\n",
    "# coarse coeff\n",
    "with open('../data/Cube/Wavelets/data_wavelet_C_test.pkl','wb') as f:\n",
    "    pickle.dump(liste_wavelet_C_test, f)\n",
    "    \n",
    "# detail coeff\n",
    "with open('../data/Cube/Wavelets/data_wavelet_D_test.pkl','wb') as f:\n",
    "    pickle.dump(liste_wavelet_D_test, f)"
   ]
  },
  {
   "cell_type": "markdown",
   "id": "6975bd0f-7a6c-4b92-9e09-027fd339ff3b",
   "metadata": {},
   "source": [
    "# Data Sculptures"
   ]
  },
  {
   "cell_type": "code",
   "execution_count": 9,
   "id": "81405508-92e8-496c-a2ba-298ea7497aee",
   "metadata": {},
   "outputs": [],
   "source": [
    "with open('../data/Sculpture/sculptures.pkl', 'rb') as f:\n",
    "    x = pickle.load(f)"
   ]
  },
  {
   "cell_type": "code",
   "execution_count": 10,
   "id": "ccfa8968-de6d-41d3-a844-762e3cedc589",
   "metadata": {},
   "outputs": [
    {
     "data": {
      "text/plain": [
       "780"
      ]
     },
     "execution_count": 10,
     "metadata": {},
     "output_type": "execute_result"
    }
   ],
   "source": [
    "len(x)"
   ]
  },
  {
   "cell_type": "code",
   "execution_count": 14,
   "id": "7457429a-aa5b-4d4b-938e-5215e8ed5bd9",
   "metadata": {},
   "outputs": [],
   "source": [
    "X = np.array([i for i in x]).reshape(len(x), 512, 256)"
   ]
  },
  {
   "cell_type": "code",
   "execution_count": 15,
   "id": "2252517a-1e51-405f-85a3-a99ac631ccb4",
   "metadata": {},
   "outputs": [
    {
     "data": {
      "text/plain": [
       "(780, 512, 256)"
      ]
     },
     "execution_count": 15,
     "metadata": {},
     "output_type": "execute_result"
    }
   ],
   "source": [
    "X.shape"
   ]
  },
  {
   "cell_type": "markdown",
   "id": "84759562-d53a-4d7f-82a9-25be4fd62da1",
   "metadata": {},
   "source": [
    "**Analyse des dimensions**"
   ]
  },
  {
   "cell_type": "code",
   "execution_count": 16,
   "id": "e3bfa50a-3146-42bc-a56f-31a7703dadbc",
   "metadata": {},
   "outputs": [],
   "source": [
    "wavelet = pywt.Wavelet('bior2.2')"
   ]
  },
  {
   "cell_type": "code",
   "execution_count": 17,
   "id": "ad25f572-dd20-476e-98e6-9762dee83af3",
   "metadata": {},
   "outputs": [
    {
     "data": {
      "text/plain": [
       "[(64, 32),\n",
       " {'ad': (64, 32), 'da': (64, 32), 'dd': (64, 32)},\n",
       " {'ad': (128, 64), 'da': (128, 64), 'dd': (128, 64)},\n",
       " {'ad': (256, 128), 'da': (256, 128), 'dd': (256, 128)}]"
      ]
     },
     "execution_count": 17,
     "metadata": {},
     "output_type": "execute_result"
    }
   ],
   "source": [
    "pywt.wavedecn_shapes((512, 256), wavelet=wavelet, level=3, mode='periodization')"
   ]
  },
  {
   "cell_type": "code",
   "execution_count": 18,
   "id": "34809c96-1de3-4fde-a208-ad505a8266f1",
   "metadata": {},
   "outputs": [],
   "source": [
    "liste_wavelet_C, liste_wavelet_D = Wavelet_decomposition(X)"
   ]
  },
  {
   "cell_type": "code",
   "execution_count": 19,
   "id": "9497e1e3-0d6c-43e3-85dc-46dc2cd73144",
   "metadata": {},
   "outputs": [
    {
     "data": {
      "text/plain": [
       "(780, 780)"
      ]
     },
     "execution_count": 19,
     "metadata": {},
     "output_type": "execute_result"
    }
   ],
   "source": [
    "len(liste_wavelet_C), len(liste_wavelet_D)"
   ]
  },
  {
   "cell_type": "markdown",
   "id": "a9e7e118-ae9c-4036-87d0-2651232f5508",
   "metadata": {},
   "source": [
    "# Exportation"
   ]
  },
  {
   "cell_type": "code",
   "execution_count": 21,
   "id": "b7964fdc-e532-4146-9307-8d6dbf0a1a2e",
   "metadata": {},
   "outputs": [],
   "source": [
    "# export wavelet decomposition\n",
    "\n",
    "# coarse coeff\n",
    "with open('../data/Sculpture/Wavelets/sculpture_wavelet_C.pkl','wb') as f:\n",
    "    pickle.dump(liste_wavelet_C, f)\n",
    "\n",
    "# detail coeff\n",
    "with open('../data/Sculpture/Wavelets/sculpture_wavelet_D.pkl','wb') as f:\n",
    "    pickle.dump(liste_wavelet_D, f)"
   ]
  },
  {
   "cell_type": "code",
   "execution_count": null,
   "id": "8f4ecd8a-310f-4998-a72b-6566642fa066",
   "metadata": {},
   "outputs": [],
   "source": []
  }
 ],
 "metadata": {
  "kernelspec": {
   "display_name": "Wavelets",
   "language": "python",
   "name": "wavelets"
  },
  "language_info": {
   "codemirror_mode": {
    "name": "ipython",
    "version": 3
   },
   "file_extension": ".py",
   "mimetype": "text/x-python",
   "name": "python",
   "nbconvert_exporter": "python",
   "pygments_lexer": "ipython3",
   "version": "3.6.15"
  }
 },
 "nbformat": 4,
 "nbformat_minor": 5
}
