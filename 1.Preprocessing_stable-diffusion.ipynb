{
 "cells": [
  {
   "cell_type": "code",
   "execution_count": 1,
   "id": "3f8cf606-308e-498b-955e-79b787f29c94",
   "metadata": {},
   "outputs": [],
   "source": [
    "import pickle\n",
    "import matplotlib.pyplot as plt\n",
    "import numpy as np"
   ]
  },
  {
   "cell_type": "code",
   "execution_count": 2,
   "id": "fb7d924f-ba74-424f-8bbc-2216e20cdedb",
   "metadata": {},
   "outputs": [],
   "source": [
    "with open('../data_wavelets/tout/Wavelets/train/data_wavelet_C_train.pkl', 'rb') as f:\n",
    "    x_train = pickle.load(f)"
   ]
  },
  {
   "cell_type": "code",
   "execution_count": 3,
   "id": "e3020456-4643-4b6d-82a4-bb5846b7e73f",
   "metadata": {},
   "outputs": [],
   "source": [
    "a = x_train[:100] # pomme\n",
    "b = x_train[170:270] # chauves souris\n",
    "c = x_train[1860:1960] # marteau\n",
    "d = x_train[400:500] # cloche"
   ]
  },
  {
   "cell_type": "markdown",
   "id": "a507839e-08d9-4198-b968-58eec4542dda",
   "metadata": {},
   "source": [
    "## Creating a dataset with an image associated with a label"
   ]
  },
  {
   "cell_type": "code",
   "execution_count": 4,
   "id": "4b2a4f6f-d1f4-451d-ad01-3b47a7014b5f",
   "metadata": {},
   "outputs": [],
   "source": [
    "x_train = np.concatenate([a, b, c, d], axis=0)"
   ]
  },
  {
   "cell_type": "code",
   "execution_count": 5,
   "id": "e54bcb33-e158-46b8-af67-da71eb8762e3",
   "metadata": {},
   "outputs": [
    {
     "data": {
      "text/plain": [
       "(400, 32, 32)"
      ]
     },
     "execution_count": 5,
     "metadata": {},
     "output_type": "execute_result"
    }
   ],
   "source": [
    "x_train.shape"
   ]
  },
  {
   "cell_type": "code",
   "execution_count": 9,
   "id": "94e61549-4bde-4393-8f20-38f5517bd001",
   "metadata": {},
   "outputs": [],
   "source": [
    "label = np.zeros(100)\n",
    "for i in range(1,4):\n",
    "    label = np.concatenate([label, np.ones(100)*i], axis=0)\n",
    "labels = np.array(label, dtype=np.int32)"
   ]
  },
  {
   "cell_type": "code",
   "execution_count": 10,
   "id": "d33973e4-c06b-40b6-967c-c9d71e9598d7",
   "metadata": {},
   "outputs": [
    {
     "data": {
      "text/plain": [
       "(400,)"
      ]
     },
     "execution_count": 10,
     "metadata": {},
     "output_type": "execute_result"
    }
   ],
   "source": [
    "labels.shape"
   ]
  },
  {
   "cell_type": "code",
   "execution_count": 11,
   "id": "dc5d2fb8-62de-4507-a565-2349f7a35a09",
   "metadata": {},
   "outputs": [],
   "source": [
    "randomize = np.arange(len(x_train))\n",
    "np.random.shuffle(randomize)"
   ]
  },
  {
   "cell_type": "code",
   "execution_count": 12,
   "id": "57275066-674e-426d-8b37-f50b552cf447",
   "metadata": {},
   "outputs": [],
   "source": [
    "X = np.array(x_train)[randomize]"
   ]
  },
  {
   "cell_type": "code",
   "execution_count": 13,
   "id": "3f6515a0-3c06-46bd-8bc4-2263f48ab58a",
   "metadata": {},
   "outputs": [],
   "source": [
    "labels = np.array(labels)[randomize]"
   ]
  },
  {
   "cell_type": "code",
   "execution_count": 14,
   "id": "c3dc66d2-35a0-4083-9109-34455625faef",
   "metadata": {},
   "outputs": [],
   "source": [
    "X_train = [X, labels]"
   ]
  },
  {
   "cell_type": "code",
   "execution_count": 16,
   "id": "d16f312c-27f8-4113-94d9-2eadc8899e9f",
   "metadata": {},
   "outputs": [
    {
     "name": "stdout",
     "output_type": "stream",
     "text": [
      "0\n"
     ]
    }
   ],
   "source": [
    "print(X_train[1][0])"
   ]
  },
  {
   "cell_type": "code",
   "execution_count": 17,
   "id": "118e36d2-ed47-4700-bb05-2bbf8fb32fd0",
   "metadata": {},
   "outputs": [
    {
     "data": {
      "text/plain": [
       "<matplotlib.image.AxesImage at 0x7f94935eeeb0>"
      ]
     },
     "execution_count": 17,
     "metadata": {},
     "output_type": "execute_result"
    },
    {
     "data": {
      "image/png": "[encoded data removed]",
      "text/plain": [
       "<Figure size 432x288 with 1 Axes>"
      ]
     },
     "metadata": {
      "needs_background": "light"
     },
     "output_type": "display_data"
    }
   ],
   "source": [
    "plt.imshow(X_train[0][0])"
   ]
  },
  {
   "cell_type": "code",
   "execution_count": null,
   "id": "3c8be4d2-f292-4cdc-ba69-b3d8873e1d5a",
   "metadata": {},
   "outputs": [],
   "source": [
    "with open('../data/diffusion_model/X_train_label.pkl', 'wb') as f:\n",
    "    pickle.dump(X_train, f)"
   ]
  },
  {
   "cell_type": "markdown",
   "id": "b5b0261e-1766-4bb3-a169-9cad7072b8b6",
   "metadata": {},
   "source": [
    "## Creating a dataset with two images associated with two labels"
   ]
  },
  {
   "cell_type": "code",
   "execution_count": 18,
   "id": "718fabfa-1021-417c-847e-964129a1053b",
   "metadata": {},
   "outputs": [],
   "source": [
    "x_train2 = []\n",
    "label2 = []\n",
    "for i in range(0, 400, 2):\n",
    "    x_train2.append(np.concatenate([X_train[0][i], X_train[0][i+1]], axis=0))\n",
    "    label2.append(np.array([X_train[1][i], X_train[1][i+1]]))"
   ]
  },
  {
   "cell_type": "code",
   "execution_count": 19,
   "id": "e024f68b-dec1-4123-875d-712505fb2247",
   "metadata": {},
   "outputs": [],
   "source": [
    "x_train2 = np.array([i for i in x_train2])\n",
    "label2 = np.array([i for i in label2])"
   ]
  },
  {
   "cell_type": "code",
   "execution_count": 20,
   "id": "c3e59c7b-c211-41cb-b0f1-103d6b1acf1f",
   "metadata": {},
   "outputs": [
    {
     "data": {
      "text/plain": [
       "(200, 64, 32)"
      ]
     },
     "execution_count": 20,
     "metadata": {},
     "output_type": "execute_result"
    }
   ],
   "source": [
    "x_train2.shape"
   ]
  },
  {
   "cell_type": "code",
   "execution_count": 21,
   "id": "7268b974-c795-4cbd-a474-be64a8c2fe9f",
   "metadata": {},
   "outputs": [
    {
     "data": {
      "text/plain": [
       "(200, 2)"
      ]
     },
     "execution_count": 21,
     "metadata": {},
     "output_type": "execute_result"
    }
   ],
   "source": [
    "label2.shape"
   ]
  },
  {
   "cell_type": "code",
   "execution_count": 22,
   "id": "3dcc6a2f-f111-4351-965a-7d58c3441124",
   "metadata": {},
   "outputs": [],
   "source": [
    "X_train2 = [x_train2, label2]"
   ]
  },
  {
   "cell_type": "code",
   "execution_count": 23,
   "id": "726a9fbc-34b9-49f5-b881-c2e1c28599cb",
   "metadata": {},
   "outputs": [
    {
     "data": {
      "text/plain": [
       "array([0, 1], dtype=int32)"
      ]
     },
     "execution_count": 23,
     "metadata": {},
     "output_type": "execute_result"
    }
   ],
   "source": [
    "X_train2[1][0]"
   ]
  },
  {
   "cell_type": "code",
   "execution_count": 24,
   "id": "d45cab0f-1b35-48cd-b9a2-16d45564c22d",
   "metadata": {},
   "outputs": [
    {
     "data": {
      "text/plain": [
       "<matplotlib.image.AxesImage at 0x7f94931f8a90>"
      ]
     },
     "execution_count": 24,
     "metadata": {},
     "output_type": "execute_result"
    },
    {
     "data": {
      "image/png": "[encoded data removed]",
      "text/plain": [
       "<Figure size 432x288 with 1 Axes>"
      ]
     },
     "metadata": {
      "needs_background": "light"
     },
     "output_type": "display_data"
    }
   ],
   "source": [
    "plt.imshow(X_train2[0][0])"
   ]
  },
  {
   "cell_type": "code",
   "execution_count": null,
   "id": "3b4a3e2e-bb66-4d1f-b668-1c6378a08cc2",
   "metadata": {},
   "outputs": [],
   "source": [
    "with open('../data/diffusion_model/X_train_label2.pkl', 'wb') as f:\n",
    "    pickle.dump(X_train2, f)"
   ]
  }
 ],
 "metadata": {
  "kernelspec": {
   "display_name": "statmath3",
   "language": "python",
   "name": "statmath3"
  },
  "language_info": {
   "codemirror_mode": {
    "name": "ipython",
    "version": 3
   },
   "file_extension": ".py",
   "mimetype": "text/x-python",
   "name": "python",
   "nbconvert_exporter": "python",
   "pygments_lexer": "ipython3",
   "version": "3.8.10"
  }
 },
 "nbformat": 4,
 "nbformat_minor": 5
}
