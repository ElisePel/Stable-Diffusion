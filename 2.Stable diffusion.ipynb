{
 "cells": [
  {
   "cell_type": "code",
   "execution_count": 1,
   "id": "7c6674a9-6acd-4734-947a-9aa572f39cac",
   "metadata": {},
   "outputs": [
    {
     "ename": "ModuleNotFoundError",
     "evalue": "No module named 'UNet_StableDiffusion'",
     "output_type": "error",
     "traceback": [
      "\u001b[0;31m---------------------------------------------------------------------------\u001b[0m",
      "\u001b[0;31mModuleNotFoundError\u001b[0m                       Traceback (most recent call last)",
      "Cell \u001b[0;32mIn[1], line 3\u001b[0m\n\u001b[1;32m      1\u001b[0m \u001b[38;5;66;03m#TensorFlow version: 2.9.0\u001b[39;00m\n\u001b[1;32m      2\u001b[0m \u001b[38;5;28;01mimport\u001b[39;00m \u001b[38;5;21;01mpickle\u001b[39;00m\n\u001b[0;32m----> 3\u001b[0m \u001b[38;5;28;01mfrom\u001b[39;00m \u001b[38;5;21;01mUNet_StableDiffusion\u001b[39;00m \u001b[38;5;28;01mimport\u001b[39;00m \u001b[38;5;241m*\u001b[39m\n\u001b[1;32m      4\u001b[0m \u001b[38;5;28;01mfrom\u001b[39;00m \u001b[38;5;21;01mdenoising_function\u001b[39;00m \u001b[38;5;28;01mimport\u001b[39;00m \u001b[38;5;241m*\u001b[39m\n",
      "\u001b[0;31mModuleNotFoundError\u001b[0m: No module named 'UNet_StableDiffusion'"
     ]
    }
   ],
   "source": [
    "#TensorFlow version: 2.9.0\n",
    "import pickle\n",
    "from UNet_StableDiffusion import *\n",
    "from denoising_function import *"
   ]
  },
  {
   "cell_type": "markdown",
   "id": "e5647849-b1bc-4845-9a23-3114a3c7912a",
   "metadata": {},
   "source": [
    "# Model"
   ]
  },
  {
   "cell_type": "code",
   "execution_count": 35,
   "id": "6e0306bc-393a-4eb1-aaf4-9d44b37ab137",
   "metadata": {},
   "outputs": [
    {
     "name": "stdout",
     "output_type": "stream",
     "text": [
      "x (200, 64, 32, 42)\n",
      "cv1 (200, 64, 32, 1)\n",
      "cv2 (200, 64, 32, 1)\n",
      "x (200, 32, 16, 64)\n",
      "cv1 (200, 32, 16, 1)\n",
      "cv2 (200, 32, 16, 1)\n",
      "x (200, 16, 8, 128)\n",
      "cv1 (200, 16, 8, 1)\n",
      "cv2 (200, 16, 8, 1)\n",
      "x (200, 8, 4, 256)\n",
      "cv1 (200, 8, 4, 1)\n",
      "cv2 (200, 8, 4, 1)\n"
     ]
    }
   ],
   "source": [
    "#########\n",
    "# MODEL #\n",
    "#########\n",
    "\n",
    "# create our unet model\n",
    "unet = Unet_conditional(\n",
    "    num_classes=num_class,\n",
    "    in_res=32,\n",
    "    channels=1\n",
    ")\n",
    "\n",
    "test_images = np.ones([batch_size, dim1, dim2, 1])\n",
    "test_timestamps = generate_timestamp(0, 1)\n",
    "test_class = np.ones(batch_size)\n",
    "k = unet(test_images, test_timestamps, test_class)"
   ]
  },
  {
   "cell_type": "code",
   "execution_count": null,
   "id": "378fd545-e709-4674-a56b-f26d821f0bb8",
   "metadata": {},
   "outputs": [],
   "source": [
    "unet.load_weights(path+'weights')"
   ]
  },
  {
   "cell_type": "markdown",
   "id": "309d61e5-b689-448f-b17f-b5dce832fb8a",
   "metadata": {},
   "source": [
    "### loss"
   ]
  },
  {
   "cell_type": "code",
   "execution_count": null,
   "id": "f99f3cbc-aadf-4309-aec9-42ef8874ad50",
   "metadata": {},
   "outputs": [],
   "source": [
    "with open(path + 'loss.pkl','rb') as f:\n",
    "    loss = pickle.load(f)"
   ]
  },
  {
   "cell_type": "code",
   "execution_count": null,
   "id": "ccfdc17c-7afe-47d8-b1a6-22a55217f014",
   "metadata": {},
   "outputs": [],
   "source": [
    "plt.plot(np.log(loss))\n",
    "plt.title('Loss')\n",
    "plt.xlabel(\"epoch\")\n",
    "plt.ylabel(\"log(loss)\")"
   ]
  },
  {
   "cell_type": "markdown",
   "id": "bf4329bf-a76d-4f8e-8818-7af4ad30f1ab",
   "metadata": {},
   "source": [
    "# DDPM"
   ]
  },
  {
   "cell_type": "code",
   "execution_count": null,
   "id": "b0b06b17-1cd7-41cc-8089-82da6f6c3d20",
   "metadata": {},
   "outputs": [],
   "source": [
    "# ddpm\n",
    "x = tf.random.normal((1,dim1,dim2,1))\n",
    "class_ = np.array([0])\n",
    "img_list = []\n",
    "img_list.append(np.squeeze(np.squeeze(x, 0), -1))\n",
    "\n",
    "\n",
    "for i in tqdm(range(timesteps-1)):\n",
    "    t = np.expand_dims(np.array(timesteps-i-1, np.int32), 0)\n",
    "    pred_noise = unet(x, t, class_)\n",
    "    x = ddpm(x, pred_noise, t)\n",
    "    img_list.append(np.squeeze(np.squeeze(x, 0), -1))\n",
    "\n",
    "    if i % 25==0:\n",
    "        plt.imshow(x[0])\n",
    "        plt.show()\n",
    "\n",
    "plt.imshow(x[0])\n",
    "plt.show()"
   ]
  }
 ],
 "metadata": {
  "kernelspec": {
   "display_name": "Py38_tf",
   "language": "python",
   "name": "py38_tf"
  },
  "language_info": {
   "codemirror_mode": {
    "name": "ipython",
    "version": 3
   },
   "file_extension": ".py",
   "mimetype": "text/x-python",
   "name": "python",
   "nbconvert_exporter": "python",
   "pygments_lexer": "ipython3",
   "version": "3.8.16"
  }
 },
 "nbformat": 4,
 "nbformat_minor": 5
}
